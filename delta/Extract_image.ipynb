{
 "cells": [
  {
   "cell_type": "code",
   "execution_count": 1,
   "id": "e06d1e2f",
   "metadata": {},
   "outputs": [],
   "source": [
    "import rosbag\n",
    "from sensor_msgs.msg import Image\n",
    "from cv_bridge import CvBridge\n",
    "import cv2\n",
    "import numpy as np\n",
    "import rospy\n",
    "import matplotlib.pyplot as plt"
   ]
  },
  {
   "cell_type": "code",
   "execution_count": 2,
   "id": "05515d53",
   "metadata": {},
   "outputs": [],
   "source": [
    "import rosbag\n",
    "import cv2\n",
    "from cv_bridge import CvBridge\n",
    "from ros_numpy.image import image_to_numpy\n",
    "\n",
    "# def extract_images_from_bag(bag_file, output_folder, topic='', frequency=1):\n",
    "#     bag = rosbag.Bag(bag_file, 'r')\n",
    "#     bridge = CvBridge()\n",
    "\n",
    "#     image_count = 0\n",
    "#     for topic, msg, t in bag.read_messages(topics=[topic]):\n",
    "#         compressed_data = msg.data\n",
    "#         np_arr = np.frombuffer(compressed_data, np.uint8)\n",
    "#         cv_image = cv2.imdecode(np_arr, cv2.IMREAD_COLOR)\n",
    "\n",
    "#         # Check if the image count is divisible by 15\n",
    "#         if image_count % 10 == 0:\n",
    "#             # You can perform image processing or saving here\n",
    "#             image_filename = f\"{output_folder}/dark_{image_count // 10}.png\"\n",
    "#             cv2.imwrite(image_filename, cv_image)\n",
    "#         image_count += 1\n",
    "#     bag.close()\n",
    "\n",
    "\n",
    "def extract_images_from_bag(bag_file, output_folder, topic='/visionfront/zed2ifront/zed_nodelet_front/rgb/image_rect_color', frequency=5):\n",
    "    # Open the ROS bag file\n",
    "    bag = rosbag.Bag(bag_file, 'r')\n",
    "    bridge = CvBridge()\n",
    "\n",
    "    image_count = 0\n",
    "\n",
    "    for topic, msg, t in bag.read_messages(topics=[topic]):\n",
    "        # Convert the ROS image message to a CV image\n",
    "        cv_image = image_to_numpy(msg)[:,:,:3]\n",
    "\n",
    "        # Check if the image count is divisible by the frequency value\n",
    "        if image_count % frequency == 0:\n",
    "            # Save the image to the specified output folder\n",
    "            image_filename = f\"{output_folder}/image_{image_count // frequency}.png\"\n",
    "            cv2.imwrite(image_filename, cv_image)\n",
    "        \n",
    "        image_count += 1\n",
    "\n",
    "    # Close the ROS bag file\n",
    "    bag.close()\n",
    "\n",
    "\n",
    "if __name__ == '__main__':\n",
    "    bag_file = '/home/Disk/delta_bag/20240723/zed/zed_2024-07-23-14-29-26.bag'\n",
    "    output_folder = '/home/kemove/delta_project/Sementic_segmentation/Road_seg/data/hdb/image'\n",
    "    extract_images_from_bag(bag_file, output_folder)\n"
   ]
  },
  {
   "cell_type": "code",
   "execution_count": null,
   "id": "00e31c7e-6781-40eb-a339-04eebe0279f3",
   "metadata": {},
   "outputs": [],
   "source": []
  }
 ],
 "metadata": {
  "kernelspec": {
   "display_name": "SAN",
   "language": "python",
   "name": "san"
  },
  "language_info": {
   "codemirror_mode": {
    "name": "ipython",
    "version": 3
   },
   "file_extension": ".py",
   "mimetype": "text/x-python",
   "name": "python",
   "nbconvert_exporter": "python",
   "pygments_lexer": "ipython3",
   "version": "3.10.13"
  }
 },
 "nbformat": 4,
 "nbformat_minor": 5
}
